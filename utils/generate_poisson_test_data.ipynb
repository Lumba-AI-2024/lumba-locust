{
  "cells": [
    {
      "cell_type": "code",
      "execution_count": 2,
      "metadata": {
        "id": "xV1jBySMPLL0"
      },
      "outputs": [],
      "source": [
        "# Import required libraries\n",
        "\n",
        "import numpy as np\n",
        "import matplotlib.pyplot as plt\n",
        "from scipy.interpolate import UnivariateSpline\n",
        "import csv"
      ]
    },
    {
      "cell_type": "code",
      "execution_count": 3,
      "metadata": {
        "id": "jfb3KZ0BPOWZ"
      },
      "outputs": [
        {
          "data": {
            "text/plain": [
              "array([4, 9, 9, ..., 7, 9, 9])"
            ]
          },
          "execution_count": 3,
          "metadata": {},
          "output_type": "execute_result"
        }
      ],
      "source": [
        "# Generate the data\n",
        "\n",
        "s = np.random.poisson(7, 13500)\n",
        "s"
      ]
    },
    {
      "cell_type": "code",
      "execution_count": 4,
      "metadata": {
        "colab": {
          "base_uri": "https://localhost:8080/"
        },
        "id": "qGTdIb9GPVKG",
        "outputId": "efd3c39b-d05d-404d-e3e9-10812a0b532e"
      },
      "outputs": [
        {
          "name": "stdout",
          "output_type": "stream",
          "text": [
            "0 19\n",
            "2043\n"
          ]
        }
      ],
      "source": [
        "# Print the first second of the test, last second of the test, and maximum amount of concurrent users in the test\n",
        "\n",
        "print(min(s), max(s))\n",
        "unique, counts = np.unique(s, return_counts=True)\n",
        "print(max(counts))"
      ]
    },
    {
      "cell_type": "code",
      "execution_count": 5,
      "metadata": {
        "id": "tLnU4cs8c5ke"
      },
      "outputs": [],
      "source": [
        "# Multiply each data with a coefficient to make the test span for 10 minutes\n",
        "\n",
        "multiplier_coefficient = 600/max(s)\n",
        "multiplied = s * multiplier_coefficient"
      ]
    },
    {
      "cell_type": "code",
      "execution_count": 6,
      "metadata": {
        "colab": {
          "base_uri": "https://localhost:8080/",
          "height": 430
        },
        "id": "tQ4vbey-Pbkf",
        "outputId": "be6e143d-5cbc-4d5c-bcb2-8708b18981ce"
      },
      "outputs": [
        {
          "data": {
            "image/png": "[encoded data removed]",
            "text/plain": [
              "<Figure size 640x480 with 1 Axes>"
            ]
          },
          "metadata": {},
          "output_type": "display_data"
        }
      ],
      "source": [
        "# Visualize the current data\n",
        "\n",
        "count, bins, ignored = plt.hist(multiplied, 100)\n",
        "plt.show()"
      ]
    },
    {
      "cell_type": "code",
      "execution_count": 7,
      "metadata": {
        "id": "XjuVwSMHaPTR"
      },
      "outputs": [],
      "source": [
        "# Get the x (seconds) and y axis (frequency)\n",
        "unique, counts = np.unique(multiplied, return_counts=True)"
      ]
    },
    {
      "cell_type": "code",
      "execution_count": 8,
      "metadata": {
        "id": "4MPKVdV4dkJI"
      },
      "outputs": [
        {
          "data": {
            "text/plain": [
              "{0.0: 12,\n",
              " 31.57894736842105: 92,\n",
              " 63.1578947368421: 287,\n",
              " 94.73684210526315: 718,\n",
              " 126.3157894736842: 1274,\n",
              " 157.89473684210526: 1699,\n",
              " 189.4736842105263: 1879,\n",
              " 221.05263157894737: 2043,\n",
              " 252.6315789473684: 1840,\n",
              " 284.2105263157895: 1396,\n",
              " 315.7894736842105: 989,\n",
              " 347.36842105263156: 573,\n",
              " 378.9473684210526: 353,\n",
              " 410.52631578947364: 194,\n",
              " 442.10526315789474: 77,\n",
              " 473.6842105263158: 45,\n",
              " 505.2631578947368: 14,\n",
              " 536.8421052631579: 13,\n",
              " 568.421052631579: 1,\n",
              " 600.0: 1}"
            ]
          },
          "execution_count": 8,
          "metadata": {},
          "output_type": "execute_result"
        }
      ],
      "source": [
        "# Extract the data into a dictionary\n",
        "\n",
        "multiplied_dict = dict(zip(unique, counts))\n",
        "multiplied_dict"
      ]
    },
    {
      "cell_type": "code",
      "execution_count": 9,
      "metadata": {
        "id": "3p4saPUUd1N4"
      },
      "outputs": [
        {
          "data": {
            "text/plain": [
              "array([ 1.20126646e+01,  1.46189992e+01,  1.71637966e+01,  1.96528188e+01,\n",
              "        2.20918280e+01,  2.44865862e+01,  2.68428557e+01,  2.91663984e+01,\n",
              "        3.14629767e+01,  3.37383524e+01,  3.59982879e+01,  3.82485452e+01,\n",
              "        4.04948864e+01,  4.27430736e+01,  4.49988690e+01,  4.72680346e+01,\n",
              "        4.95563327e+01,  5.18695253e+01,  5.42133746e+01,  5.65936426e+01,\n",
              "        5.90160914e+01,  6.14864833e+01,  6.40105803e+01,  6.65941446e+01,\n",
              "        6.92429382e+01,  7.19627232e+01,  7.47592619e+01,  7.76383163e+01,\n",
              "        8.06056486e+01,  8.36670208e+01,  8.68281951e+01,  9.00949336e+01,\n",
              "        9.34729984e+01,  9.69681516e+01,  1.00586155e+02,  1.04332772e+02,\n",
              "        1.08213763e+02,  1.12234891e+02,  1.16401919e+02,  1.20720607e+02,\n",
              "        1.25196719e+02,  1.29836016e+02,  1.34644260e+02,  1.39627215e+02,\n",
              "        1.44790641e+02,  1.50140301e+02,  1.55681956e+02,  1.61421370e+02,\n",
              "        1.67364305e+02,  1.73516521e+02,  1.79883782e+02,  1.86471850e+02,\n",
              "        1.93286486e+02,  2.00333454e+02,  2.07618514e+02,  2.15147429e+02,\n",
              "        2.22925961e+02,  2.30959873e+02,  2.39254926e+02,  2.47816883e+02,\n",
              "        2.56651506e+02,  2.65764556e+02,  2.75161796e+02,  2.84848988e+02,\n",
              "        2.94830816e+02,  3.05104989e+02,  3.15666441e+02,  3.26510098e+02,\n",
              "        3.37630889e+02,  3.49023739e+02,  3.60683577e+02,  3.72605328e+02,\n",
              "        3.84783921e+02,  3.97214281e+02,  4.09891336e+02,  4.22810013e+02,\n",
              "        4.35965238e+02,  4.49351940e+02,  4.62965044e+02,  4.76799479e+02,\n",
              "        4.90850170e+02,  5.05112045e+02,  5.19580030e+02,  5.34249054e+02,\n",
              "        5.49114042e+02,  5.64169922e+02,  5.79411621e+02,  5.94834066e+02,\n",
              "        6.10432183e+02,  6.26200900e+02,  6.42135144e+02,  6.58229841e+02,\n",
              "        6.74479920e+02,  6.90880306e+02,  7.07425926e+02,  7.24111699e+02,\n",
              "        7.40931496e+02,  7.57877233e+02,  7.74940609e+02,  7.92113326e+02,\n",
              "        8.09387083e+02,  8.26753580e+02,  8.44204519e+02,  8.61731598e+02,\n",
              "        8.79326518e+02,  8.96980980e+02,  9.14686683e+02,  9.32435328e+02,\n",
              "        9.50218615e+02,  9.68028243e+02,  9.85855915e+02,  1.00369333e+03,\n",
              "        1.02153218e+03,  1.03936418e+03,  1.05718103e+03,  1.07497441e+03,\n",
              "        1.09273604e+03,  1.11045761e+03,  1.12813083e+03,  1.14574739e+03,\n",
              "        1.16329900e+03,  1.18077735e+03,  1.19817414e+03,  1.21548108e+03,\n",
              "        1.23268986e+03,  1.24979219e+03,  1.26677977e+03,  1.28364429e+03,\n",
              "        1.30037746e+03,  1.31697097e+03,  1.33341653e+03,  1.34970583e+03,\n",
              "        1.36583059e+03,  1.38178248e+03,  1.39755323e+03,  1.41313452e+03,\n",
              "        1.42851807e+03,  1.44369555e+03,  1.45865869e+03,  1.47339917e+03,\n",
              "        1.48790871e+03,  1.50217899e+03,  1.51620172e+03,  1.52996860e+03,\n",
              "        1.54347132e+03,  1.55670160e+03,  1.56965113e+03,  1.58231160e+03,\n",
              "        1.59467473e+03,  1.60673221e+03,  1.61847573e+03,  1.62989701e+03,\n",
              "        1.64098774e+03,  1.65173962e+03,  1.66214434e+03,  1.67219363e+03,\n",
              "        1.68187916e+03,  1.69119264e+03,  1.70012578e+03,  1.70867631e+03,\n",
              "        1.71685956e+03,  1.72469411e+03,  1.73219849e+03,  1.73939127e+03,\n",
              "        1.74629100e+03,  1.75291622e+03,  1.75928550e+03,  1.76541739e+03,\n",
              "        1.77133045e+03,  1.77704322e+03,  1.78257426e+03,  1.78794212e+03,\n",
              "        1.79316536e+03,  1.79826253e+03,  1.80325219e+03,  1.80815288e+03,\n",
              "        1.81298317e+03,  1.81776161e+03,  1.82250674e+03,  1.82723713e+03,\n",
              "        1.83197133e+03,  1.83672789e+03,  1.84152536e+03,  1.84638230e+03,\n",
              "        1.85131727e+03,  1.85634881e+03,  1.86149548e+03,  1.86677584e+03,\n",
              "        1.87220843e+03,  1.87781182e+03,  1.88360354e+03,  1.88958057e+03,\n",
              "        1.89572067e+03,  1.90200087e+03,  1.90839820e+03,  1.91488968e+03,\n",
              "        1.92145234e+03,  1.92806322e+03,  1.93469934e+03,  1.94133773e+03,\n",
              "        1.94795541e+03,  1.95452941e+03,  1.96103677e+03,  1.96745450e+03,\n",
              "        1.97375965e+03,  1.97992923e+03,  1.98594027e+03,  1.99176980e+03,\n",
              "        1.99739486e+03,  2.00279246e+03,  2.00793964e+03,  2.01281343e+03,\n",
              "        2.01739084e+03,  2.02164892e+03,  2.02556468e+03,  2.02911516e+03,\n",
              "        2.03227738e+03,  2.03502838e+03,  2.03734517e+03,  2.03920480e+03,\n",
              "        2.04058428e+03,  2.04146064e+03,  2.04181534e+03,  2.04165050e+03,\n",
              "        2.04097431e+03,  2.03979498e+03,  2.03812069e+03,  2.03595963e+03,\n",
              "        2.03332000e+03,  2.03021000e+03,  2.02663780e+03,  2.02261161e+03,\n",
              "        2.01813962e+03,  2.01323002e+03,  2.00789100e+03,  2.00213075e+03,\n",
              "        1.99595748e+03,  1.98937937e+03,  1.98240461e+03,  1.97504139e+03,\n",
              "        1.96729791e+03,  1.95918237e+03,  1.95070295e+03,  1.94186784e+03,\n",
              "        1.93268525e+03,  1.92316335e+03,  1.91331035e+03,  1.90313444e+03,\n",
              "        1.89264380e+03,  1.88184664e+03,  1.87075114e+03,  1.85936550e+03,\n",
              "        1.84769791e+03,  1.83575660e+03,  1.82355177e+03,  1.81109636e+03,\n",
              "        1.79840353e+03,  1.78548645e+03,  1.77235827e+03,  1.75903216e+03,\n",
              "        1.74552127e+03,  1.73183876e+03,  1.71799779e+03,  1.70401153e+03,\n",
              "        1.68989313e+03,  1.67565576e+03,  1.66131256e+03,  1.64687671e+03,\n",
              "        1.63236136e+03,  1.61777968e+03,  1.60314481e+03,  1.58846993e+03,\n",
              "        1.57376818e+03,  1.55905274e+03,  1.54433676e+03,  1.52963340e+03,\n",
              "        1.51495582e+03,  1.50031718e+03,  1.48573063e+03,  1.47120935e+03,\n",
              "        1.45676649e+03,  1.44241521e+03,  1.42816867e+03,  1.41404003e+03,\n",
              "        1.40004244e+03,  1.38618730e+03,  1.37247246e+03,  1.35888952e+03,\n",
              "        1.34543005e+03,  1.33208560e+03,  1.31884775e+03,  1.30570807e+03,\n",
              "        1.29265812e+03,  1.27968946e+03,  1.26679367e+03,  1.25396231e+03,\n",
              "        1.24118695e+03,  1.22845915e+03,  1.21577048e+03,  1.20311251e+03,\n",
              "        1.19047680e+03,  1.17785492e+03,  1.16523844e+03,  1.15261893e+03,\n",
              "        1.13998794e+03,  1.12733705e+03,  1.11465783e+03,  1.10194183e+03,\n",
              "        1.08918064e+03,  1.07636580e+03,  1.06348890e+03,  1.05054149e+03,\n",
              "        1.03751515e+03,  1.02440143e+03,  1.01119192e+03,  9.97878161e+02,\n",
              "        9.84451771e+02,  9.70910748e+02,  9.57266967e+02,  9.43534115e+02,\n",
              "        9.29725880e+02,  9.15855949e+02,  9.01938011e+02,  8.87985752e+02,\n",
              "        8.74012862e+02,  8.60033026e+02,  8.46059934e+02,  8.32107273e+02,\n",
              "        8.18188731e+02,  8.04317996e+02,  7.90508754e+02,  7.76774695e+02,\n",
              "        7.63129505e+02,  7.49586873e+02,  7.36160486e+02,  7.22864032e+02,\n",
              "        7.09711198e+02,  6.96715673e+02,  6.83891145e+02,  6.71251300e+02,\n",
              "        6.58809827e+02,  6.46580414e+02,  6.34576747e+02,  6.22812516e+02,\n",
              "        6.11301407e+02,  6.00057109e+02,  5.89093309e+02,  5.78423695e+02,\n",
              "        5.68060980e+02,  5.58004974e+02,  5.48246348e+02,  5.38775581e+02,\n",
              "        5.29583150e+02,  5.20659532e+02,  5.11995207e+02,  5.03580651e+02,\n",
              "        4.95406343e+02,  4.87462760e+02,  4.79740380e+02,  4.72229681e+02,\n",
              "        4.64921141e+02,  4.57805238e+02,  4.50872450e+02,  4.44113254e+02,\n",
              "        4.37518128e+02,  4.31077550e+02,  4.24781999e+02,  4.18621951e+02,\n",
              "        4.12587885e+02,  4.06670278e+02,  4.00859609e+02,  3.95146355e+02,\n",
              "        3.89520995e+02,  3.83974005e+02,  3.78495864e+02,  3.73077050e+02,\n",
              "        3.67708040e+02,  3.62379312e+02,  3.57081345e+02,  3.51804616e+02,\n",
              "        3.46541541e+02,  3.41291160e+02,  3.36053925e+02,  3.30830289e+02,\n",
              "        3.25620704e+02,  3.20425623e+02,  3.15245498e+02,  3.10080782e+02,\n",
              "        3.04931928e+02,  2.99799388e+02,  2.94683615e+02,  2.89585062e+02,\n",
              "        2.84504180e+02,  2.79441423e+02,  2.74397244e+02,  2.69372094e+02,\n",
              "        2.64366426e+02,  2.59380694e+02,  2.54415349e+02,  2.49470844e+02,\n",
              "        2.44547632e+02,  2.39646166e+02,  2.34766897e+02,  2.29910279e+02,\n",
              "        2.25076764e+02,  2.20266805e+02,  2.15480855e+02,  2.10719365e+02,\n",
              "        2.05982788e+02,  2.01271578e+02,  1.96586187e+02,  1.91927117e+02,\n",
              "        1.87296176e+02,  1.82696570e+02,  1.78131573e+02,  1.73604461e+02,\n",
              "        1.69118507e+02,  1.64676985e+02,  1.60283171e+02,  1.55940339e+02,\n",
              "        1.51651763e+02,  1.47420717e+02,  1.43250477e+02,  1.39144316e+02,\n",
              "        1.35105509e+02,  1.31137330e+02,  1.27243054e+02,  1.23425956e+02,\n",
              "        1.19689309e+02,  1.16036388e+02,  1.12470468e+02,  1.08994823e+02,\n",
              "        1.05612728e+02,  1.02327456e+02,  9.91422834e+01,  9.60604832e+01,\n",
              "        9.30853304e+01,  9.02200994e+01,  8.74680645e+01,  8.48325003e+01,\n",
              "        8.23166812e+01,  7.99238817e+01,  7.76573762e+01,  7.55193951e+01,\n",
              "        7.35064305e+01,  7.16130133e+01,  6.98336728e+01,  6.81629382e+01,\n",
              "        6.65953386e+01,  6.51254034e+01,  6.37476617e+01,  6.24566428e+01,\n",
              "        6.12468758e+01,  6.01128900e+01,  5.90492146e+01,  5.80503789e+01,\n",
              "        5.71109120e+01,  5.62253432e+01,  5.53882016e+01,  5.45940166e+01,\n",
              "        5.38373172e+01,  5.31126329e+01,  5.24144927e+01,  5.17374258e+01,\n",
              "        5.10759616e+01,  5.04246292e+01,  4.97779578e+01,  4.91304767e+01,\n",
              "        4.84767151e+01,  4.78112022e+01,  4.71284671e+01,  4.64230393e+01,\n",
              "        4.56894477e+01,  4.49222218e+01,  4.41159366e+01,  4.32683078e+01,\n",
              "        4.23821528e+01,  4.14607565e+01,  4.05074037e+01,  3.95253794e+01,\n",
              "        3.85179684e+01,  3.74884555e+01,  3.64401256e+01,  3.53762636e+01,\n",
              "        3.43001544e+01,  3.32150828e+01,  3.21243337e+01,  3.10311920e+01,\n",
              "        2.99389424e+01,  2.88508700e+01,  2.77702595e+01,  2.67003958e+01,\n",
              "        2.56445639e+01,  2.46060484e+01,  2.35881344e+01,  2.25941067e+01,\n",
              "        2.16272502e+01,  2.06908496e+01,  1.97881900e+01,  1.89225561e+01,\n",
              "        1.80972328e+01,  1.73155051e+01,  1.65806576e+01,  1.58959754e+01,\n",
              "        1.52647433e+01,  1.46902462e+01,  1.41753525e+01,  1.37191431e+01,\n",
              "        1.33186774e+01,  1.29709954e+01,  1.26731375e+01,  1.24221437e+01,\n",
              "        1.22150543e+01,  1.20489096e+01,  1.19207497e+01,  1.18276148e+01,\n",
              "        1.17665452e+01,  1.17345810e+01,  1.17287625e+01,  1.17461299e+01,\n",
              "        1.17837234e+01,  1.18385832e+01,  1.19077494e+01,  1.19882624e+01,\n",
              "        1.20771623e+01,  1.21714894e+01,  1.22682838e+01,  1.23645857e+01,\n",
              "        1.24574354e+01,  1.25438731e+01,  1.26209390e+01,  1.26856733e+01,\n",
              "        1.27351161e+01,  1.27663078e+01,  1.27762885e+01,  1.27620984e+01,\n",
              "        1.27207778e+01,  1.26493697e+01,  1.25460320e+01,  1.24117245e+01,\n",
              "        1.22478404e+01,  1.20557728e+01,  1.18369147e+01,  1.15926593e+01,\n",
              "        1.13243998e+01,  1.10335291e+01,  1.07214403e+01,  1.03895267e+01,\n",
              "        1.00391813e+01,  9.67179719e+00,  9.28876748e+00,  8.89148528e+00,\n",
              "        8.48134369e+00,  8.05973582e+00,  7.62805477e+00,  7.18769365e+00,\n",
              "        6.74004556e+00,  6.28650360e+00,  5.82846087e+00,  5.36731049e+00,\n",
              "        4.90444555e+00,  4.44125917e+00,  3.97914443e+00,  3.51949445e+00,\n",
              "        3.06370233e+00,  2.61316118e+00,  2.16926409e+00,  1.73340417e+00,\n",
              "        1.30697454e+00,  8.91368277e-01,  4.87978502e-01,  9.81983147e-02,\n",
              "       -2.76579181e-01, -6.34960882e-01, -9.75553683e-01, -1.29696448e+00,\n",
              "       -1.59780017e+00, -1.87666765e+00, -2.13217382e+00, -2.36292557e+00,\n",
              "       -2.56752979e+00, -2.74459339e+00, -2.89272325e+00, -3.01052629e+00,\n",
              "       -3.09660938e+00, -3.14957943e+00, -3.16804334e+00, -3.15060800e+00,\n",
              "       -3.09588030e+00, -3.00246715e+00, -2.86897543e+00, -2.69401205e+00,\n",
              "       -2.47618390e+00, -2.21409788e+00, -1.90636088e+00, -1.55157979e+00,\n",
              "       -1.14836153e+00, -6.95312972e-01, -1.91041024e-01,  3.65847420e-01])"
            ]
          },
          "execution_count": 9,
          "metadata": {},
          "output_type": "execute_result"
        }
      ],
      "source": [
        "# Interpolate the data to make it continuous\n",
        "\n",
        "interp_func = UnivariateSpline(unique, counts)\n",
        "newarr = interp_func(np.arange(0, 600, 1))\n",
        "newarr"
      ]
    },
    {
      "cell_type": "code",
      "execution_count": 10,
      "metadata": {
        "colab": {
          "base_uri": "https://localhost:8080/",
          "height": 430
        },
        "id": "zCfpFr2QgmQS",
        "outputId": "3613fb9c-93dd-4aef-894f-d05eddc385a1"
      },
      "outputs": [
        {
          "data": {
            "image/png": "[encoded data removed]",
            "text/plain": [
              "<Figure size 640x480 with 1 Axes>"
            ]
          },
          "metadata": {},
          "output_type": "display_data"
        }
      ],
      "source": [
        "# Visualize the current data\n",
        "\n",
        "plt.plot(np.arange(0,600,1), newarr)\n",
        "plt.show()"
      ]
    },
    {
      "cell_type": "code",
      "execution_count": 11,
      "metadata": {
        "id": "eMS6218MgyRY"
      },
      "outputs": [
        {
          "data": {
            "text/plain": [
              "array([  13,   15,   18,   20,   23,   25,   27,   30,   32,   34,   36,\n",
              "         39,   41,   43,   45,   48,   50,   52,   55,   57,   60,   62,\n",
              "         65,   67,   70,   72,   75,   78,   81,   84,   87,   91,   94,\n",
              "         97,  101,  105,  109,  113,  117,  121,  126,  130,  135,  140,\n",
              "        145,  151,  156,  162,  168,  174,  180,  187,  194,  201,  208,\n",
              "        216,  223,  231,  240,  248,  257,  266,  276,  285,  295,  306,\n",
              "        316,  327,  338,  350,  361,  373,  385,  398,  410,  423,  436,\n",
              "        450,  463,  477,  491,  506,  520,  535,  550,  565,  580,  595,\n",
              "        611,  627,  643,  659,  675,  691,  708,  725,  741,  758,  775,\n",
              "        793,  810,  827,  845,  862,  880,  897,  915,  933,  951,  969,\n",
              "        986, 1004, 1022, 1040, 1058, 1075, 1093, 1111, 1129, 1146, 1164,\n",
              "       1181, 1199, 1216, 1233, 1250, 1267, 1284, 1301, 1317, 1334, 1350,\n",
              "       1366, 1382, 1398, 1414, 1429, 1444, 1459, 1474, 1488, 1503, 1517,\n",
              "       1530, 1544, 1557, 1570, 1583, 1595, 1607, 1619, 1630, 1641, 1652,\n",
              "       1663, 1673, 1682, 1692, 1701, 1709, 1717, 1725, 1733, 1740, 1747,\n",
              "       1753, 1760, 1766, 1772, 1778, 1783, 1788, 1794, 1799, 1804, 1809,\n",
              "       1813, 1818, 1823, 1828, 1832, 1837, 1842, 1847, 1852, 1857, 1862,\n",
              "       1867, 1873, 1878, 1884, 1890, 1896, 1903, 1909, 1915, 1922, 1929,\n",
              "       1935, 1942, 1948, 1955, 1962, 1968, 1974, 1980, 1986, 1992, 1998,\n",
              "       2003, 2008, 2013, 2018, 2022, 2026, 2030, 2033, 2036, 2038, 2040,\n",
              "       2041, 2042, 2042, 2042, 2041, 2040, 2039, 2036, 2034, 2031, 2027,\n",
              "       2023, 2019, 2014, 2008, 2003, 1996, 1990, 1983, 1976, 1968, 1960,\n",
              "       1951, 1942, 1933, 1924, 1914, 1904, 1893, 1882, 1871, 1860, 1848,\n",
              "       1836, 1824, 1812, 1799, 1786, 1773, 1760, 1746, 1732, 1718, 1705,\n",
              "       1690, 1676, 1662, 1647, 1633, 1618, 1604, 1589, 1574, 1560, 1545,\n",
              "       1530, 1515, 1501, 1486, 1472, 1457, 1443, 1429, 1415, 1401, 1387,\n",
              "       1373, 1359, 1346, 1333, 1319, 1306, 1293, 1280, 1267, 1254, 1242,\n",
              "       1229, 1216, 1204, 1191, 1178, 1166, 1153, 1140, 1128, 1115, 1102,\n",
              "       1090, 1077, 1064, 1051, 1038, 1025, 1012,  998,  985,  971,  958,\n",
              "        944,  930,  916,  902,  888,  875,  861,  847,  833,  819,  805,\n",
              "        791,  777,  764,  750,  737,  723,  710,  697,  684,  672,  659,\n",
              "        647,  635,  623,  612,  601,  590,  579,  569,  559,  549,  539,\n",
              "        530,  521,  512,  504,  496,  488,  480,  473,  465,  458,  451,\n",
              "        445,  438,  432,  425,  419,  413,  407,  401,  396,  390,  384,\n",
              "        379,  374,  368,  363,  358,  352,  347,  342,  337,  331,  326,\n",
              "        321,  316,  311,  305,  300,  295,  290,  285,  280,  275,  270,\n",
              "        265,  260,  255,  250,  245,  240,  235,  230,  226,  221,  216,\n",
              "        211,  206,  202,  197,  192,  188,  183,  179,  174,  170,  165,\n",
              "        161,  156,  152,  148,  144,  140,  136,  132,  128,  124,  120,\n",
              "        117,  113,  109,  106,  103,  100,   97,   94,   91,   88,   85,\n",
              "         83,   80,   78,   76,   74,   72,   70,   69,   67,   66,   64,\n",
              "         63,   62,   61,   60,   59,   58,   57,   56,   55,   54,   54,\n",
              "         53,   52,   52,   51,   50,   50,   49,   48,   48,   47,   46,\n",
              "         45,   45,   44,   43,   42,   41,   40,   39,   38,   37,   36,\n",
              "         35,   34,   33,   32,   30,   29,   28,   27,   26,   25,   24,\n",
              "         23,   22,   21,   20,   19,   19,   18,   17,   16,   16,   15,\n",
              "         15,   14,   14,   13,   13,   13,   13,   13,   12,   12,   12,\n",
              "         12,   12,   12,   12,   12,   12,   12,   13,   13,   13,   13,\n",
              "         13,   13,   13,   13,   13,   13,   13,   13,   13,   13,   13,\n",
              "         13,   13,   13,   12,   12,   12,   12,   11,   11,   11,   10,\n",
              "         10,    9,    9,    9,    8,    8,    7,    7,    6,    6,    5,\n",
              "          5,    4,    4,    4,    3,    3,    2,    2,    1,    1,    1,\n",
              "          0,    0,    0,   -1,   -1,   -1,   -2,   -2,   -2,   -2,   -2,\n",
              "         -3,   -3,   -3,   -3,   -3,   -3,   -3,   -2,   -2,   -2,   -2,\n",
              "         -1,   -1,   -1,    0,    0,    1])"
            ]
          },
          "execution_count": 11,
          "metadata": {},
          "output_type": "execute_result"
        }
      ],
      "source": [
        "# Ceil the data to make it integer\n",
        "\n",
        "new_arr_ceiled = np.ceil(newarr).astype(int)\n",
        "new_arr_ceiled"
      ]
    },
    {
      "cell_type": "code",
      "execution_count": 12,
      "metadata": {
        "colab": {
          "base_uri": "https://localhost:8080/",
          "height": 430
        },
        "id": "2i7w27FDg3kK",
        "outputId": "dc8bdbb7-503e-4906-c67e-371ee9a5de74"
      },
      "outputs": [
        {
          "data": {
            "image/png": "[encoded data removed]",
            "text/plain": [
              "<Figure size 640x480 with 1 Axes>"
            ]
          },
          "metadata": {},
          "output_type": "display_data"
        }
      ],
      "source": [
        "# Visualize the current data\n",
        "\n",
        "plt.plot(np.arange(0,600,1), new_arr_ceiled)\n",
        "plt.show()"
      ]
    },
    {
      "cell_type": "code",
      "execution_count": 13,
      "metadata": {
        "id": "qVupby4Chd0f"
      },
      "outputs": [],
      "source": [
        "x_axis = np.arange(0,600,1)\n",
        "y_axis = new_arr_ceiled\n",
        "finished_data = dict(zip(x_axis, y_axis))"
      ]
    },
    {
      "cell_type": "code",
      "execution_count": 14,
      "metadata": {
        "id": "pMkVHoAhjpcI"
      },
      "outputs": [],
      "source": [
        "# Export the data to a CSV file\n",
        "\n",
        "OUTPUT_NAME = 'output.csv'\n",
        "with open(OUTPUT_NAME, 'w', newline='') as file:\n",
        "    writer = csv.writer(file)\n",
        "\n",
        "    writer.writerow(['duration', 'users'])\n",
        "\n",
        "    for i in range(len(x_axis)):\n",
        "        writer.writerow([x_axis[i], y_axis[i]])"
      ]
    }
  ],
  "metadata": {
    "colab": {
      "provenance": []
    },
    "kernelspec": {
      "display_name": "Python 3",
      "name": "python3"
    },
    "language_info": {
      "codemirror_mode": {
        "name": "ipython",
        "version": 3
      },
      "file_extension": ".py",
      "mimetype": "text/x-python",
      "name": "python",
      "nbconvert_exporter": "python",
      "pygments_lexer": "ipython3",
      "version": "3.11.2"
    }
  },
  "nbformat": 4,
  "nbformat_minor": 0
}
